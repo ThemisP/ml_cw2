{
 "cells": [
  {
   "cell_type": "code",
   "execution_count": 1,
   "metadata": {},
   "outputs": [
    {
     "ename": "ModuleNotFoundError",
     "evalue": "No module named 'tensorflow'",
     "output_type": "error",
     "traceback": [
      "\u001b[1;31m---------------------------------------------------------------------------\u001b[0m",
      "\u001b[1;31mModuleNotFoundError\u001b[0m                       Traceback (most recent call last)",
      "\u001b[1;32m<ipython-input-1-adea9c1aba8a>\u001b[0m in \u001b[0;36m<module>\u001b[1;34m()\u001b[0m\n\u001b[1;32m----> 1\u001b[1;33m \u001b[1;32mimport\u001b[0m \u001b[0mtensorflow\u001b[0m \u001b[1;32mas\u001b[0m \u001b[0mtf\u001b[0m\u001b[1;33m\u001b[0m\u001b[0m\n\u001b[0m\u001b[0;32m      2\u001b[0m \u001b[1;32mimport\u001b[0m \u001b[0mnumpy\u001b[0m \u001b[1;32mas\u001b[0m \u001b[0mnp\u001b[0m\u001b[1;33m\u001b[0m\u001b[0m\n\u001b[0;32m      3\u001b[0m \u001b[1;33m\u001b[0m\u001b[0m\n\u001b[0;32m      4\u001b[0m \u001b[0mdtype\u001b[0m \u001b[1;33m=\u001b[0m \u001b[0mtf\u001b[0m\u001b[1;33m.\u001b[0m\u001b[0mfloat64\u001b[0m\u001b[1;33m\u001b[0m\u001b[0m\n\u001b[0;32m      5\u001b[0m \u001b[1;33m\u001b[0m\u001b[0m\n",
      "\u001b[1;31mModuleNotFoundError\u001b[0m: No module named 'tensorflow'"
     ]
    }
   ],
   "source": [
    "import tensorflow as tf\n",
    "import numpy as np\n",
    "\n",
    "dtype = tf.float64\n",
    "\n",
    "\n",
    "def batch_index_groups(batch_size, num_samples):\n",
    "\n",
    "    indices = np.random.choice(num_samples, num_samples, replace=False)\n",
    "\n",
    "    def offset(i): return (i * batch_size) % num_samples\n",
    "\n",
    "    return [\n",
    "        indices[offset(i):(offset(i) + batch_size)]\n",
    "        for i in range(int(num_samples / batch_size))\n",
    "    ]\n",
    "\n",
    "\n",
    "def kl_divergence_univariate_gaussians(q_mu, q_sigma, p_mu, p_sigma):\n",
    "    epsilon = 1e-8\n",
    "    q_sigma_sqrd = tf.square(q_sigma)\n",
    "    p_sigma_sqrd = tf.square(p_sigma)\n",
    "    t0 = tf.log(epsilon + (p_sigma_sqrd / q_sigma_sqrd))\n",
    "    t1 = (q_sigma_sqrd + tf.square(q_mu - p_mu)) / p_sigma_sqrd\n",
    "    t2 = -1\n",
    "    return tf.reduce_mean(tf.reduce_sum(0.5 * (t0 + t1 + t2), axis=1))\n",
    "\n",
    "\n",
    "def gaussian_sample(mu, sigma):\n",
    "    return mu + sigma * tf.random_normal(tf.shape(mu), 0, 1, dtype=dtype)"
   ]
  }
 ],
 "metadata": {
  "kernelspec": {
   "display_name": "Python 3",
   "language": "python",
   "name": "python3"
  },
  "language_info": {
   "codemirror_mode": {
    "name": "ipython",
    "version": 3
   },
   "file_extension": ".py",
   "mimetype": "text/x-python",
   "name": "python",
   "nbconvert_exporter": "python",
   "pygments_lexer": "ipython3",
   "version": "3.6.3"
  }
 },
 "nbformat": 4,
 "nbformat_minor": 2
}
